{
 "cells": [
  {
   "cell_type": "markdown",
   "metadata": {},
   "source": [
    "oops in python-------------"
   ]
  },
  {
   "cell_type": "markdown",
   "metadata": {},
   "source": [
    "classes--------real entity\n",
    "attribute------properties of entity\n",
    "methods--------actions of classes"
   ]
  },
  {
   "cell_type": "code",
   "execution_count": 1,
   "metadata": {},
   "outputs": [
    {
     "name": "stdout",
     "output_type": "stream",
     "text": [
      "<__main__.car object at 0x000001A84DE23950>\n"
     ]
    }
   ],
   "source": [
    "#classes-------real world entity \n",
    "class car:\n",
    "    pass\n",
    "car1=car()#object\n",
    "car2=car()\n",
    "print(car1)\n",
    "\n",
    "#attributes----propertiess\n",
    "car1.windows=4\n",
    "car1.tyres=6\n"
   ]
  },
  {
   "cell_type": "code",
   "execution_count": 4,
   "metadata": {},
   "outputs": [
    {
     "name": "stdout",
     "output_type": "stream",
     "text": [
      "the type of car is electric\n"
     ]
    }
   ],
   "source": [
    "class car:\n",
    "    def __init__(self,windows,tyres,engine):#constructor(parameters)\n",
    "        #attributes\n",
    "        self.windows=windows\n",
    "        self.tyres=tyres\n",
    "        self.engine=engine\n",
    "    #method\n",
    "    def self_driving(self,type):\n",
    "        print(\"the type of car is {}\".format(type))\n",
    "car1=car(4,4,\"petrol\")#object passing with parameters to call constructor\n",
    "#calling the method\n",
    "car1.self_driving(\"electric\")\n",
    "\n"
   ]
  },
  {
   "cell_type": "markdown",
   "metadata": {},
   "source": [
    "constructors----"
   ]
  },
  {
   "cell_type": "markdown",
   "metadata": {},
   "source": [
    "multiple init functions\n",
    "cant run in python"
   ]
  },
  {
   "cell_type": "code",
   "execution_count": 10,
   "metadata": {},
   "outputs": [
    {
     "data": {
      "text/plain": [
       "'the animal is dog and says woof woof'"
      ]
     },
     "execution_count": 10,
     "metadata": {},
     "output_type": "execute_result"
    }
   ],
   "source": [
    "class Animals:\n",
    "    def __init__(self,*args) -> None:\n",
    "        if len(args)==1:\n",
    "            self.name=args[0]\n",
    "        elif len(args)==2:\n",
    "            self.name=args[0]\n",
    "            self.species=args[1]\n",
    "    \n",
    "    def make_sound(self,sound):\n",
    "        return \"the animal is {} and says {}\".format(self.name,sound)\n",
    "    \n",
    "dog=Animals(\"dog\",\"mammals\")\n",
    "dog.make_sound(\"woof woof\")"
   ]
  },
  {
   "cell_type": "markdown",
   "metadata": {},
   "source": [
    "Inheritance------inheriting properties of parent class"
   ]
  },
  {
   "cell_type": "code",
   "execution_count": 17,
   "metadata": {},
   "outputs": [
    {
     "name": "stdout",
     "output_type": "stream",
     "text": [
      "200\n",
      "the type of car is automatic\n"
     ]
    }
   ],
   "source": [
    "#parent class\n",
    "class Car:\n",
    "    def __init__(self,windows,doors,engine):#constructor(parameters)\n",
    "        #attributes\n",
    "        self.windows=windows\n",
    "        self.doors=doors\n",
    "        self.engine=engine\n",
    "    #method\n",
    "    def self_driving(self,type):\n",
    "        print(\"the type of car is {}\".format(type))\n",
    "\n",
    "#child class\n",
    "class Audi(Car):\n",
    "    def __init__(self, windows, doors, engine,speed):\n",
    "        super().__init__(windows, doors, engine)\n",
    "        self.speed=speed\n",
    "    def driving(self):\n",
    "        print(\"car is driving\")\n",
    "\n",
    "    \n",
    "\n",
    "audiq7=Audi(4,5,\"diesel\",200)\n",
    "print(audiq7.speed)\n",
    "audiq7.self_driving(\"automatic\")\n",
    "\n",
    " "
   ]
  },
  {
   "cell_type": "code",
   "execution_count": null,
   "metadata": {},
   "outputs": [],
   "source": []
  }
 ],
 "metadata": {
  "kernelspec": {
   "display_name": "Python 3",
   "language": "python",
   "name": "python3"
  },
  "language_info": {
   "codemirror_mode": {
    "name": "ipython",
    "version": 3
   },
   "file_extension": ".py",
   "mimetype": "text/x-python",
   "name": "python",
   "nbconvert_exporter": "python",
   "pygments_lexer": "ipython3",
   "version": "3.12.2"
  }
 },
 "nbformat": 4,
 "nbformat_minor": 2
}
