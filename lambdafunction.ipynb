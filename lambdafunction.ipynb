{
 "cells": [
  {
   "cell_type": "markdown",
   "metadata": {},
   "source": [
    "A lambda function in Python is a small anonymous function defined with the lambda keyword. Lambda functions can have any number of arguments but only one expression. They are syntactically restricted to a single expression and are typically used for short, simple operations.\n",
    "#\n",
    "lambda arguments: expression\n",
    "\n"
   ]
  },
  {
   "cell_type": "code",
   "execution_count": 1,
   "metadata": {},
   "outputs": [
    {
     "data": {
      "text/plain": [
       "10"
      ]
     },
     "execution_count": 1,
     "metadata": {},
     "output_type": "execute_result"
    }
   ],
   "source": [
    "#example\n",
    "add=lambda x,y:x+y\n",
    "add(4,6)"
   ]
  },
  {
   "cell_type": "code",
   "execution_count": 1,
   "metadata": {},
   "outputs": [
    {
     "data": {
      "text/plain": [
       "4"
      ]
     },
     "execution_count": 1,
     "metadata": {},
     "output_type": "execute_result"
    }
   ],
   "source": [
    "#return the length of a string\n",
    "string_length=lambda s:len(s)\n",
    "string_length(\"arti\")\n",
    "\n",
    " "
   ]
  },
  {
   "cell_type": "code",
   "execution_count": 5,
   "metadata": {},
   "outputs": [
    {
     "data": {
      "text/plain": [
       "[1, 9, 16, 4, 25]"
      ]
     },
     "execution_count": 5,
     "metadata": {},
     "output_type": "execute_result"
    }
   ],
   "source": [
    "#convert integers in squares\n",
    "numbers=[1,3,4,2,5]\n",
    "list (map(lambda x : x**2,numbers))"
   ]
  },
  {
   "cell_type": "code",
   "execution_count": 9,
   "metadata": {},
   "outputs": [
    {
     "name": "stdout",
     "output_type": "stream",
     "text": [
      "[4, 2]\n"
     ]
    }
   ],
   "source": [
    "#filter out even numbers\n",
    "numbers = [1, 3, 4, 2, 5]\n",
    "even_numbers = list(filter(lambda x: x % 2 == 0, numbers))\n",
    "print(even_numbers)\n"
   ]
  },
  {
   "cell_type": "code",
   "execution_count": 14,
   "metadata": {},
   "outputs": [
    {
     "data": {
      "text/plain": [
       "['apple', 'banana', 'cherry', 'blueberry', 'strawberry']"
      ]
     },
     "execution_count": 14,
     "metadata": {},
     "output_type": "execute_result"
    }
   ],
   "source": [
    "#sort based on alphabetical order and length\n",
    "fruits=['apple','banana','strawberry','blueberry','cherry']\n",
    "sorted(fruits,key=lambda x:len(x))"
   ]
  },
  {
   "cell_type": "code",
   "execution_count": 18,
   "metadata": {},
   "outputs": [
    {
     "name": "stdout",
     "output_type": "stream",
     "text": [
      "{2: {'name': 'Bob', 'age': 25, 'city': 'Los Angeles'}, 4: {'name': 'Diana', 'age': 28, 'city': 'Houston'}, 1: {'name': 'Alice', 'age': 30, 'city': 'New York'}, 3: {'name': 'Charlie', 'age': 35, 'city': 'Chicago'}}\n"
     ]
    }
   ],
   "source": [
    "people = {\n",
    "    1: {\"name\": \"Alice\", \"age\": 30, \"city\": \"New York\"},\n",
    "    2: {\"name\": \"Bob\", \"age\": 25, \"city\": \"Los Angeles\"},\n",
    "    3: {\"name\": \"Charlie\", \"age\": 35, \"city\": \"Chicago\"},\n",
    "    4: {\"name\": \"Diana\", \"age\": 28, \"city\": \"Houston\"}\n",
    "}\n",
    "\n",
    "# Sort by age\n",
    "sorted_people = dict(sorted(people.items(), key=lambda item: item[1]['age']))\n",
    "\n",
    "print(sorted_people)\n"
   ]
  },
  {
   "cell_type": "code",
   "execution_count": null,
   "metadata": {},
   "outputs": [],
   "source": []
  }
 ],
 "metadata": {
  "kernelspec": {
   "display_name": "Python 3",
   "language": "python",
   "name": "python3"
  },
  "language_info": {
   "codemirror_mode": {
    "name": "ipython",
    "version": 3
   },
   "file_extension": ".py",
   "mimetype": "text/x-python",
   "name": "python",
   "nbconvert_exporter": "python",
   "pygments_lexer": "ipython3",
   "version": "3.12.2"
  }
 },
 "nbformat": 4,
 "nbformat_minor": 2
}
