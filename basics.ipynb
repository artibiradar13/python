{
 "cells": [
  {
   "cell_type": "markdown",
   "metadata": {},
   "source": [
    "starting with python"
   ]
  },
  {
   "cell_type": "code",
   "execution_count": 2,
   "metadata": {},
   "outputs": [
    {
     "name": "stdout",
     "output_type": "stream",
     "text": [
      "hello world\n"
     ]
    }
   ],
   "source": [
    "#to print something\n",
    "print(\"hello world\")"
   ]
  },
  {
   "cell_type": "code",
   "execution_count": 4,
   "metadata": {},
   "outputs": [
    {
     "name": "stdout",
     "output_type": "stream",
     "text": [
      "68\n"
     ]
    }
   ],
   "source": [
    "#input type\n",
    "a=input(\"enter a number:\")\n",
    "b=input(\"enter the another number:\")\n",
    "print(int(a)+int(b))"
   ]
  },
  {
   "cell_type": "code",
   "execution_count": 7,
   "metadata": {},
   "outputs": [
    {
     "name": "stdout",
     "output_type": "stream",
     "text": [
      "<class 'int'>\n",
      "<class 'str'>\n",
      "<class 'float'>\n"
     ]
    },
    {
     "data": {
      "text/plain": [
       "190"
      ]
     },
     "execution_count": 7,
     "metadata": {},
     "output_type": "execute_result"
    }
   ],
   "source": [
    "#variable declaration- no need to declare type\n",
    "a=10;\n",
    "print(type(a))\n",
    "first_name=\"Arti\"\n",
    "print(type(first_name))\n",
    "#floating\n",
    "b=190.5\n",
    "print(type(b))\n",
    "int(b)#typecasting\n"
   ]
  },
  {
   "cell_type": "code",
   "execution_count": 10,
   "metadata": {},
   "outputs": [
    {
     "name": "stdout",
     "output_type": "stream",
     "text": [
      "the value of a is: 23\n",
      "the first name is arti and last name is Biradar\n"
     ]
    }
   ],
   "source": [
    "#string formatting\n",
    "a=23\n",
    "print(\"the value of a is:\",a)\n",
    "first_Name=\"arti\"\n",
    "last_Name=\"Biradar\"\n",
    "print(\"the first name is {0} and last name is {1}\".format(first_Name,last_Name))"
   ]
  },
  {
   "cell_type": "markdown",
   "metadata": {},
   "source": [
    "control flows\n"
   ]
  },
  {
   "cell_type": "code",
   "execution_count": 15,
   "metadata": {},
   "outputs": [
    {
     "name": "stdout",
     "output_type": "stream",
     "text": [
      "smaller than 100\n",
      "34\n"
     ]
    }
   ],
   "source": [
    "#if statement\n",
    "\n",
    "value=input(\"enter the no.\")\n",
    "value_int =float(value)#convert to float\n",
    "if(value_int>100):\n",
    "    print(\"greater than 100\")\n",
    "elif(value_int==100):#nested if-else\n",
    "    print(\"value is 100\")\n",
    "else:\n",
    "    print(\"smaller than 100\")\n",
    "\n",
    "print(value)"
   ]
  },
  {
   "cell_type": "markdown",
   "metadata": {},
   "source": [
    "loops statement\n"
   ]
  },
  {
   "cell_type": "code",
   "execution_count": 26,
   "metadata": {},
   "outputs": [
    {
     "name": "stdout",
     "output_type": "stream",
     "text": [
      "16  :odd sum , 20 :even sum\n"
     ]
    }
   ],
   "source": [
    "#for loop\n",
    "list=[1,2,3,4,5,6,7,8]\n",
    "for i in list:\n",
    "    print(i*2)\n",
    "\n",
    "#sum of elements in list\n",
    "sum=0#intisltise\n",
    "for j in list:\n",
    "    sum=sum+j\n",
    "print(sum)\n",
    "\n",
    "#find sum of odd numbers\n",
    "odd_sum1=0\n",
    "even_sum1=0\n",
    "for k in list:\n",
    "    if(k%2==0):\n",
    "        even_sum1=even_sum1+k\n",
    "    else:\n",
    "        odd_sum1=odd_sum1+k    \n",
    "\n",
    "print(odd_sum1,\":odd sum ,\",even_sum1,\":even sum\")\n"
   ]
  },
  {
   "cell_type": "code",
   "execution_count": 31,
   "metadata": {},
   "outputs": [
    {
     "name": "stdout",
     "output_type": "stream",
     "text": [
      "25 :odd sum , 30 :even sum\n"
     ]
    }
   ],
   "source": [
    "#while loop\n",
    "'''i=0\n",
    "while(i<=10):\n",
    "    print(i)\n",
    "    i=i+1'''\n",
    "\n",
    "#sum of even odd\n",
    "j=0\n",
    "odd_sum1=0\n",
    "even_sum1=0\n",
    "while(j<=10):\n",
    "    if(j%2==0):\n",
    "        even_sum1=even_sum1+j\n",
    "    else:\n",
    "        odd_sum1=odd_sum1+j\n",
    "    \n",
    "    \n",
    "    \n",
    "    j=j+1  \n",
    "\n",
    "print(odd_sum1,\":odd sum ,\",even_sum1,\":even sum\")\n",
    "\n"
   ]
  },
  {
   "cell_type": "code",
   "execution_count": 35,
   "metadata": {},
   "outputs": [
    {
     "name": "stdout",
     "output_type": "stream",
     "text": [
      "1\n",
      "2\n",
      "4\n",
      "5\n"
     ]
    }
   ],
   "source": [
    "##break-----to break the loop\n",
    "i=0\n",
    "while(i<5):\n",
    "    if(i==3):\n",
    "        break\n",
    "    print(i)\n",
    "    i=i+1\n",
    "\n",
    "#continue------to continue SKIPPING THE ELEMENT\n",
    "i=0\n",
    "while(i<5):\n",
    "    i=i+1\n",
    "    if(i==3):\n",
    "        continue\n",
    "    print(i)\n",
    "    \n"
   ]
  },
  {
   "cell_type": "markdown",
   "metadata": {},
   "source": [
    "operators\n"
   ]
  },
  {
   "cell_type": "code",
   "execution_count": 44,
   "metadata": {},
   "outputs": [
    {
     "name": "stdout",
     "output_type": "stream",
     "text": [
      "AND False\n",
      "OR True\n",
      "NOT True\n"
     ]
    }
   ],
   "source": [
    "#logocal operators\n",
    "a=True\n",
    "b=False\n",
    "\n",
    "print(\"AND\",True and False)#conditonal AND\n",
    "print(\"OR\",True or False)#conditional OR\n",
    "print(\"NOT\",not False)#unary neagation(opposite)"
   ]
  },
  {
   "cell_type": "code",
   "execution_count": 45,
   "metadata": {},
   "outputs": [
    {
     "name": "stdout",
     "output_type": "stream",
     "text": [
      "2535254043616\n",
      "2535254043232\n"
     ]
    },
    {
     "data": {
      "text/plain": [
       "False"
      ]
     },
     "execution_count": 45,
     "metadata": {},
     "output_type": "execute_result"
    }
   ],
   "source": [
    "#equality operators\n",
    "a=\"arti\"\n",
    "b='arti1'\n",
    "a==b #equality operator\n",
    "print(id(a))\n",
    "print(id(b))\n",
    "a is b #is same memory object\n",
    "a is not b #is not different object\n",
    "a!=b #!= not same value "
   ]
  },
  {
   "cell_type": "code",
   "execution_count": 49,
   "metadata": {},
   "outputs": [
    {
     "data": {
      "text/plain": [
       "False"
      ]
     },
     "execution_count": 49,
     "metadata": {},
     "output_type": "execute_result"
    }
   ],
   "source": [
    "#comparison operators\n",
    "a=(4)\n",
    "b=(10)\n",
    "a<b#less than\n",
    "a<=b#less than or equal to \n",
    "a>b#grater than\n",
    "a>=b#greater than or equal to\n"
   ]
  },
  {
   "cell_type": "code",
   "execution_count": 52,
   "metadata": {},
   "outputs": [
    {
     "data": {
      "text/plain": [
       "0"
      ]
     },
     "execution_count": 52,
     "metadata": {},
     "output_type": "execute_result"
    }
   ],
   "source": [
    "#arithmetic operator\n",
    "a=4\n",
    "b=6\n",
    "a+b#addition\n",
    "a-b#subration\n",
    "a*b#multiplication\n",
    "a/b#true divion\n",
    "a%b #remainder\n",
    "a//b#integer division(whole number)\n"
   ]
  },
  {
   "cell_type": "markdown",
   "metadata": {},
   "source": [
    "Number Methods"
   ]
  },
  {
   "cell_type": "code",
   "execution_count": 1,
   "metadata": {},
   "outputs": [
    {
     "data": {
      "text/plain": [
       "24.34"
      ]
     },
     "execution_count": 1,
     "metadata": {},
     "output_type": "execute_result"
    }
   ],
   "source": [
    "#absolute\n",
    "#abs()-----will return the absolute value of a number which we pass in argument\n",
    "abs(-24.34)"
   ]
  },
  {
   "cell_type": "code",
   "execution_count": 4,
   "metadata": {},
   "outputs": [
    {
     "data": {
      "text/plain": [
       "-34"
      ]
     },
     "execution_count": 4,
     "metadata": {},
     "output_type": "execute_result"
    }
   ],
   "source": [
    "#ceiling\n",
    "#ceil()-----next occurring number \n",
    "import math\n",
    "math.ceil(44.35)\n",
    "math.ceil(-34.45)"
   ]
  },
  {
   "cell_type": "code",
   "execution_count": 5,
   "metadata": {},
   "outputs": [
    {
     "data": {
      "text/plain": [
       "45"
      ]
     },
     "execution_count": 5,
     "metadata": {},
     "output_type": "execute_result"
    }
   ],
   "source": [
    "#floor\n",
    "#floor()-----smallest near value \n",
    "math.floor(45.3)"
   ]
  },
  {
   "cell_type": "code",
   "execution_count": 6,
   "metadata": {},
   "outputs": [
    {
     "data": {
      "text/plain": [
       "22026.465794806718"
      ]
     },
     "execution_count": 6,
     "metadata": {},
     "output_type": "execute_result"
    }
   ],
   "source": [
    "#exp()-----exponential value of a number\n",
    "math.exp(10)"
   ]
  },
  {
   "cell_type": "code",
   "execution_count": 7,
   "metadata": {},
   "outputs": [
    {
     "data": {
      "text/plain": [
       "10.53"
      ]
     },
     "execution_count": 7,
     "metadata": {},
     "output_type": "execute_result"
    }
   ],
   "source": [
    "#fabs()-------floating values\n",
    "math.fabs(10.53)"
   ]
  },
  {
   "cell_type": "code",
   "execution_count": 12,
   "metadata": {},
   "outputs": [
    {
     "name": "stdout",
     "output_type": "stream",
     "text": [
      "2.302585092994046\n"
     ]
    },
    {
     "data": {
      "text/plain": [
       "1.0"
      ]
     },
     "execution_count": 12,
     "metadata": {},
     "output_type": "execute_result"
    }
   ],
   "source": [
    "#log()\n",
    "print(math.log(10))#base e\n",
    "math.log10(10)#base 10"
   ]
  },
  {
   "cell_type": "code",
   "execution_count": 14,
   "metadata": {},
   "outputs": [
    {
     "data": {
      "text/plain": [
       "200"
      ]
     },
     "execution_count": 14,
     "metadata": {},
     "output_type": "execute_result"
    }
   ],
   "source": [
    "#max-------finds the maximum value\n",
    "max(10,100,200,30,45)"
   ]
  },
  {
   "cell_type": "code",
   "execution_count": 15,
   "metadata": {},
   "outputs": [
    {
     "data": {
      "text/plain": [
       "34"
      ]
     },
     "execution_count": 15,
     "metadata": {},
     "output_type": "execute_result"
    }
   ],
   "source": [
    "#min----minimum value\n",
    "min(34,56,78,45)"
   ]
  },
  {
   "cell_type": "code",
   "execution_count": 16,
   "metadata": {},
   "outputs": [
    {
     "data": {
      "text/plain": [
       "4.0"
      ]
     },
     "execution_count": 16,
     "metadata": {},
     "output_type": "execute_result"
    }
   ],
   "source": [
    "#power\n",
    "math.pow(2,2)#value,power"
   ]
  },
  {
   "cell_type": "code",
   "execution_count": 18,
   "metadata": {},
   "outputs": [
    {
     "data": {
      "text/plain": [
       "3.0"
      ]
     },
     "execution_count": 18,
     "metadata": {},
     "output_type": "execute_result"
    }
   ],
   "source": [
    "#sqrt------sqaure root of anumber\n",
    "math.sqrt(9)"
   ]
  },
  {
   "cell_type": "code",
   "execution_count": 20,
   "metadata": {},
   "outputs": [
    {
     "data": {
      "text/plain": [
       "0.0"
      ]
     },
     "execution_count": 20,
     "metadata": {},
     "output_type": "execute_result"
    }
   ],
   "source": [
    "#trignometric\n",
    "math.sin(45)\n",
    "math.cos(45)\n",
    "math.tan(0)"
   ]
  },
  {
   "cell_type": "code",
   "execution_count": 22,
   "metadata": {},
   "outputs": [
    {
     "data": {
      "text/plain": [
       "5.0"
      ]
     },
     "execution_count": 22,
     "metadata": {},
     "output_type": "execute_result"
    }
   ],
   "source": [
    "#hypot()-------hypotaneous\n",
    "math.hypot(4,3)\n"
   ]
  },
  {
   "cell_type": "code",
   "execution_count": 26,
   "metadata": {},
   "outputs": [
    {
     "data": {
      "text/plain": [
       "(0.0, 1.0)"
      ]
     },
     "execution_count": 26,
     "metadata": {},
     "output_type": "execute_result"
    }
   ],
   "source": [
    "#modf------fractional and integer part of the number\n",
    "math.modf(1)"
   ]
  },
  {
   "cell_type": "markdown",
   "metadata": {},
   "source": [
    "data structures\n"
   ]
  },
  {
   "cell_type": "code",
   "execution_count": 30,
   "metadata": {},
   "outputs": [
    {
     "data": {
      "text/plain": [
       "1"
      ]
     },
     "execution_count": 30,
     "metadata": {},
     "output_type": "execute_result"
    }
   ],
   "source": [
    "#lists[]-------mutable,ordered sequence\n",
    "lst=[1,2,3,4,5,6,7]\n",
    "lst1=list((12,34,5,3,7))\n",
    "\n",
    "#append------adding element to the list at last\n",
    "lst.append([12,34,56,\"nested\"])\n",
    "#extend-----adding elements without nested list\n",
    "lst.extend([9,7,\"extended\"])\n",
    "\n",
    "#insert-------inserting element to the specific place\n",
    "lst.insert(1,\"Ar\")\n",
    "lst\n",
    "\n",
    "\n",
    "#mathematical operations\n",
    "list_math=[2,2,2,2,2,2]\n",
    "sum(list_math)\n",
    "list_math*2#two times append\n",
    "\n",
    "#pop-----deleting the elements\n",
    "list_math.pop()\n",
    "list_math.pop(0)\n",
    "\n",
    "#count-----calculates total occurance of a given element of list\n",
    "list_math.count(2)\n",
    "\n",
    "#length----calcualtes the total length of the lsit\n",
    "len(list_math)\n",
    "list_math.index(2,1,4)\n",
    "\n",
    "\n",
    "\n"
   ]
  },
  {
   "cell_type": "code",
   "execution_count": 5,
   "metadata": {},
   "outputs": [
    {
     "name": "stdout",
     "output_type": "stream",
     "text": [
      "1\n",
      "2\n",
      "3\n",
      "4\n",
      "5\n"
     ]
    },
    {
     "data": {
      "text/plain": [
       "{1, 2, 3, 4}"
      ]
     },
     "execution_count": 5,
     "metadata": {},
     "output_type": "execute_result"
    }
   ],
   "source": [
    "####sets{independent value}--------mutable,unordered,no duplicates,iterable\n",
    "set1=set([1,2,3,4])#set keyword--class\n",
    "set2={1,2,3,4,5}\n",
    "type(set)\n",
    "for i in set2:\n",
    "    print(i)\n",
    "\n",
    "\n",
    "\n",
    "#adding\n",
    "set1.add(10)\n",
    "set1.intersection(set2)\n",
    "\n",
    "\n"
   ]
  },
  {
   "cell_type": "code",
   "execution_count": 4,
   "metadata": {},
   "outputs": [
    {
     "ename": "SyntaxError",
     "evalue": "invalid syntax (672542981.py, line 3)",
     "output_type": "error",
     "traceback": [
      "\u001b[1;36m  Cell \u001b[1;32mIn[4], line 3\u001b[1;36m\u001b[0m\n\u001b[1;33m    dict2=dict(name:\"art\",lst:\"draw\")\u001b[0m\n\u001b[1;37m                   ^\u001b[0m\n\u001b[1;31mSyntaxError\u001b[0m\u001b[1;31m:\u001b[0m invalid syntax\n"
     ]
    }
   ],
   "source": [
    "####dictionaries{key value pairs}-------unordered,mutable,indexed\n",
    "dict1={1:\"arti\",2:\"biradar\"}\n",
    "dict2=dict(name:\"art\",lst:\"draw\")"
   ]
  },
  {
   "cell_type": "code",
   "execution_count": null,
   "metadata": {},
   "outputs": [],
   "source": []
  }
 ],
 "metadata": {
  "kernelspec": {
   "display_name": "Python 3",
   "language": "python",
   "name": "python3"
  },
  "language_info": {
   "codemirror_mode": {
    "name": "ipython",
    "version": 3
   },
   "file_extension": ".py",
   "mimetype": "text/x-python",
   "name": "python",
   "nbconvert_exporter": "python",
   "pygments_lexer": "ipython3",
   "version": "3.12.2"
  }
 },
 "nbformat": 4,
 "nbformat_minor": 2
}
